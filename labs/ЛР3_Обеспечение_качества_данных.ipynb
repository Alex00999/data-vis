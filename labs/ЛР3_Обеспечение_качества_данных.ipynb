{
  "nbformat": 4,
  "nbformat_minor": 0,
  "metadata": {
    "colab": {
      "provenance": [],
      "include_colab_link": true
    },
    "kernelspec": {
      "name": "python3",
      "display_name": "Python 3"
    },
    "language_info": {
      "name": "python"
    }
  },
  "cells": [
    {
      "cell_type": "markdown",
      "metadata": {
        "id": "view-in-github",
        "colab_type": "text"
      },
      "source": [
        "<a href=\"https://colab.research.google.com/github/Alex00999/data-vis/blob/main/labs/%D0%9B%D0%A03_%D0%9E%D0%B1%D0%B5%D1%81%D0%BF%D0%B5%D1%87%D0%B5%D0%BD%D0%B8%D0%B5_%D0%BA%D0%B0%D1%87%D0%B5%D1%81%D1%82%D0%B2%D0%B0_%D0%B4%D0%B0%D0%BD%D0%BD%D1%8B%D1%85.ipynb\" target=\"_parent\"><img src=\"https://colab.research.google.com/assets/colab-badge.svg\" alt=\"Open In Colab\"/></a>"
      ]
    },
    {
      "cell_type": "markdown",
      "source": [
        "# Постановка задачи\n"
      ],
      "metadata": {
        "id": "Mx1V6rkZLGNJ"
      }
    },
    {
      "cell_type": "markdown",
      "source": [
        "**Цель работы:** исследование и обработка данных для повышения их качества.\n",
        "\n",
        "**Краткое описание:** в лабораторной работе приводится поэтапный план изучения и обработки намеренно не предобработанных данных. Необходимо выполнить все этапы плана и оценить результаты преобразований."
      ],
      "metadata": {
        "id": "BPzgy4tKLP-x"
      }
    },
    {
      "cell_type": "markdown",
      "metadata": {
        "id": "xjvL0IIG8Jd0"
      },
      "source": [
        "# Данные\n"
      ]
    },
    {
      "cell_type": "markdown",
      "metadata": {
        "id": "oP3lX9xC8Jd8"
      },
      "source": [
        "\n",
        "В папке [Data/lab3](https://drive.google.com/drive/folders/1437z7m5Ut4WUJOhJg1oZz13dtBpxgFKs?usp=share_link) расположена таблица `monster_com_job_sample.com` с данными о вакансиях. Также эти данные с описанием и примерами обработки можно найти на [kaggle](https://www.kaggle.com/code/ankkur13/perfect-dataset-to-get-the-hands-dirty/data#).\n",
        "\n",
        "##### **Формат данных**\n",
        "\n",
        "```\n",
        "country,country_code,date_added,has_expired,job_board,job_description,job_title,job_type,location,organization,page_url,salary,sector,uniq_id\n",
        "United States of America,US,\"\",No,jobs.monster.com,\"TeamSoft is seeing an IT Support Specialist to join our client in Madison, WI. The ideal candidate must have at least 6 years of experience in the field. They need to be familiar with a variety of the field's concepts, practices, and procedures as this position relies on extensive experience and judgment to plan and accomplish goals. Required Skills:вАҐ Call tracking softwareвАҐ Phone based technical supportвАҐ Problem documentation and communicationвАҐ Remote Desktop Management ToolsвАҐ Respond to customer requestsвАҐ General understanding of LANDeskвАҐ Microsoft Office 2007 SuiteFind out why TeamSoft is the Madison area's technology leader with over 200 IT consultants. Owned, operated, and managed by IT consultants, TeamSoft is the clear choice for your career. Join the TeamSoft family today!Did you know?вАҐ TeamSoft offers salaried options for many positions that include 5 weeks PTO and great benefits!вАҐ TeamSoft has been in business since 1996вАҐ TeamSoft's owners are local IT professionals who possess a wealth of experience in application development, business analysis, and project managementвАҐ TeamSoft's Recruiters are knowledgeable, friendly, and ready to help you make your next great career moveвАҐ TeamSoft offers a full benefits suite to all of our W2 consultants, including a 401k plan with a 100% vested 4% dollar for dollar matchвАҐ Our targeted selection process is designed to get to know your strengths and career interests and provide you with the best chance for success in your new positionвАҐ Our longest running consultant has been with us for 16 yearsвАҐ Consultants can participate in our charitable giving committee. To date, TeamSoft's charitable giving committee has donated over $100,000!TeamSoft is owned by local IT professionals. Our team also has deep experience with IT staffing. Our clients understand this and rely on our expertise. That is why TeamSoft is the Madison Area's largest privately owned IT consulting firm, with more than 200 current consultants! With over 50 active clients, TeamSoft will give you the greatest exposure to the widest range of IT careers.Our owners possess a combined 60+ years of IT consulting experience. Our recruiting and Account Management staff are very well-versed in our client markets. We get you. We know you. We know what you do every day. And we know what you deal with on the job.You take your career seriously and so do we. At TeamSoft you are not just a resume or number. Our goal is to create long-term partnerships with each of our consultants, and according to feedback from many of them, we are very good at this. Click HERE to see what our consultants have to say about working with TeamSoft.TeamSoft -- Promote yourself!TeamSoft is an equal employment opportunity employer functioning under an Affirmative Action Plan.\",IT Support Technician Job in Madison,Full Time Employee,\"Madison, WI 53702\",\"\",http://jobview.monster.com/it-support-technician-job-madison-wi-us-167855963.aspx?mescoid=1500134001001&jobPosition=20,\"\",IT/Software Development,11d599f229a80023d2f40e7c52cd941e\n",
        "United States of America,US,\"\",No,jobs.monster.com,\"The Wisconsin State Journal is seeking a flexible and motivated reporter/editor to lead its three-person business desk. WeвАЩre looking for an experienced journalist able to spot trends, be a watchdog and reflect the Madison areaвАЩs vibrant entrepreneurial community. This is a hybrid reporting and editing position that calls for a fleet-footed, multimedia storyteller able to maximize the newspaperвАЩs online presentation while also editing two sections a week. Candidates must have strong news judgment, be well versed in business news and trends and be able to quickly prioritize coverage.At least five yearsвАЩ experience reporting or editing for digital and print platforms desired. To be considered for the position, applicants must apply online.¬†As part of your online application, please attach five samples of your work or links to five recent stories.Wisconsin State Journal, 1901 Fish Hatchery Road, Madison, WI 53713Affirmative Action/Equal Opportunity Employer/Pre-employment drug testing appliesPI94338362Apply Here\",Business Reporter/Editor Job in Madison,Full Time,\"Madison, WI 53708\",Printing and Publishing,http://jobview.monster.com/business-reporter-editor-job-madison-wi-us-167830105.aspx?mescoid=2700437001001&jobPosition=7,\"\",\"\",e4cbb126dabf22159aff90223243ff2a\n",
        "...\n",
        "```"
      ]
    },
    {
      "cell_type": "markdown",
      "source": [
        "##### **Описание полей**\n",
        " - ```country``` — наименование страны;\n",
        " - ```country_code``` — код страны;\n",
        " - ```date_added``` — дата размещения вакансии;\n",
        " - ```has_expired``` — актуальность вакансии;\n",
        " - ```job_board``` — агрегатор вакансий, с которого собраны данные;\n",
        " - ```job_description``` — описание вакансии;\n",
        " - ```job_title``` — наименование должности;\n",
        " - ```job_type``` — вид занятости;\n",
        " - ```location``` — метоположение организации;\n",
        " - ```organization``` — наименование организации;\n",
        " - ```page_url``` — ссылка на страницу с вакансией;\n",
        " - ```salary``` — заработная плата;\n",
        " - ```sector``` — сфера деятельности;\n",
        " - ```uniq_id``` — уникальный идентификатор записи о вакансии."
      ],
      "metadata": {
        "id": "6lEBcXdWuhD3"
      }
    },
    {
      "cell_type": "markdown",
      "source": [
        "# Понимание данных"
      ],
      "metadata": {
        "id": "SA63ZXNBkUde"
      }
    },
    {
      "cell_type": "code",
      "execution_count": 1,
      "metadata": {
        "id": "eZIcPcPutJ7k"
      },
      "outputs": [],
      "source": [
        "import re\n",
        "import numpy as np\n",
        "import pandas as pd\n",
        "import missingno as msno\n",
        "from matplotlib import pyplot as plt\n",
        "import seaborn as sns"
      ]
    },
    {
      "cell_type": "markdown",
      "source": [
        "В датасете есть несколько столбцов, в каждой ячейке которых записано одно и то же значение. Есть столбцы, в которых формат записи значений не стандартизирован. А есть такие, где указана информация, не соответствующая названию столбца.\n",
        "\n",
        "**Первый этап изучения данных** – понять, какие основные проблемы предстоит решить для каждого из столбцов. Для этого загрузите датасет и выведите случайные несколько строк из него. Постарайтесь понять, что из себя представляют данные в столбцах."
      ],
      "metadata": {
        "id": "Fy8Z7sNYyJdO"
      }
    },
    {
      "cell_type": "code",
      "source": [
        "df = pd.read_csv('/content/monster_com_job_sample.csv')\n",
        "print(df.sample(5))"
      ],
      "metadata": {
        "id": "Pg3YapMnEEDH",
        "colab": {
          "base_uri": "https://localhost:8080/"
        },
        "outputId": "f9813735-edc9-4c4d-8f02-dc6b95e7f056"
      },
      "execution_count": 4,
      "outputs": [
        {
          "output_type": "stream",
          "name": "stdout",
          "text": [
            "                        country country_code date_added has_expired  \\\n",
            "4946   United States of America           US        NaN          No   \n",
            "20792  United States of America           US        NaN          No   \n",
            "3102   United States of America           US        NaN          No   \n",
            "2189   United States of America           US        NaN          No   \n",
            "11307  United States of America           US        NaN          No   \n",
            "\n",
            "              job_board                                    job_description  \\\n",
            "4946   jobs.monster.com  Sunny Street Café, a breakfast and lunch resta...   \n",
            "20792  jobs.monster.com  Report this job About the Job EMPLOYMENT OPPOR...   \n",
            "3102   jobs.monster.com  Job Description:We have an amazing opportunity...   \n",
            "2189   jobs.monster.com  HIRING – OPERATIONS MANAGERA Career That’s Mea...   \n",
            "11307  jobs.monster.com  We are looking for enthusiastic, career-minded...   \n",
            "\n",
            "                                               job_title             job_type  \\\n",
            "4946                    Regional Manager Job in Columbus            Full Time   \n",
            "20792  Institute for Human & Social Development Job A...  Full Time, Employee   \n",
            "3102   Bilingual Customer Service - Up to K Job in Du...            Full Time   \n",
            "2189          Operations Manager Job in Colorado Springs   Full Time Employee   \n",
            "11307  Aflac - Benefits Sales Consultant Job in West ...            Full Time   \n",
            "\n",
            "                                                location  \\\n",
            "4946                                  Columbus, OH 43215   \n",
            "20792  EMPLOYMENT OPPORTUNITYPosition:Program Operati...   \n",
            "3102                                    Duarte, CA 91010   \n",
            "2189                          Colorado Springs, CO 80920   \n",
            "11307                              West Monroe, LA 71291   \n",
            "\n",
            "                   organization  \\\n",
            "4946   Restaurant/Food Services   \n",
            "20792                 Education   \n",
            "3102       Other/Not Classified   \n",
            "2189      Manufacturing - Other   \n",
            "11307                 Insurance   \n",
            "\n",
            "                                                page_url  \\\n",
            "4946   http://jobview.monster.com/Regional-Manager-Jo...   \n",
            "20792  http://jobview.monster.com/program-operations-...   \n",
            "3102   http://jobview.monster.com/Bilingual-Customer-...   \n",
            "2189   http://jobview.monster.com/operations-manager-...   \n",
            "11307  http://jobview.monster.com/aflac-benefits-sale...   \n",
            "\n",
            "                                                  salary  \\\n",
            "4946   $60,000.00+ /yearhigh bonus potential and full...   \n",
            "20792                                                NaN   \n",
            "3102                                     Up to $31000.00   \n",
            "2189                                                 NaN   \n",
            "11307                                                NaN   \n",
            "\n",
            "                                      sector                           uniq_id  \n",
            "4946   Manager (Manager/Supervisor of Staff)  ae0108585172fadd02f3d409db29698a  \n",
            "20792                                    NaN  4e508f8f8a6dd93d3c218b43c383c41c  \n",
            "3102               Experienced (Non-Manager)  04ee27d5f0b1cf888c8ae2a68f27da77  \n",
            "2189           Business/Strategic Management  d908e0618976a123ff56c04c61074021  \n",
            "11307           Customer Support/Client Care  8f3340842574b79d982bce78dc65e508  \n"
          ]
        }
      ]
    },
    {
      "cell_type": "markdown",
      "source": [
        "**Задание**\n",
        "\n",
        "Составьте таблицу, в которой будет содержаться название столбца, тип данных в нем и краткое описание проблем, которые вы заметили при первом взгляде на данные.\n",
        "\n",
        "\n",
        "Название столбца | Тип данных | Проблемы  \n",
        "--- | --- | ---  \n",
        "```country``` | str  \n",
        "```country_code``` | str  \n",
        "```date_added``` | str | пустые значения  \n",
        "```has_expired``` | str | значения типа \"No\", можно привести к bool  \n",
        "```job_board``` | str  \n",
        "```job_description``` | str | проблемы с кодировкой\n",
        "```job_title``` | str  \n",
        "```job_type``` | str | разнородные значения (например, \"Full Time Employee\")  \n",
        "```location``` | str  \n",
        "```organization``` | str | пустые значения  \n",
        "```page_url``` | str  \n",
        "```salary``` | str | пустые значения  \n",
        "```sector``` | str | пустые значения  \n",
        "```uniq_id``` | str"
      ],
      "metadata": {
        "id": "YLByumEvRyO2"
      }
    },
    {
      "cell_type": "markdown",
      "source": [
        "### Оценка пустых ячеек в датасете"
      ],
      "metadata": {
        "id": "iUV-fNE6Js4w"
      }
    },
    {
      "cell_type": "markdown",
      "source": [
        "Выясните, в каких столбцах, строках и в каком количестве отсутствуют данные:\n",
        "1. С помощью модуля `pandas` составьте таблицу, где каждому названию столбца будет сопоставлено общее количество ячеек и количество пустых ячеек.\n",
        "2. Подсчитайте количество строк датасета, в которых пустыми являются более 75% ячеек.\n",
        "3. Визуализируйте число пропусков в датасете с помощью модуля, построив столбчатую диаграмму. Для удобства можно воспользоваться модулем `missingno`.\n"
      ],
      "metadata": {
        "id": "qMPChGv8SO2a"
      }
    },
    {
      "cell_type": "code",
      "source": [
        "missing_info = pd.DataFrame({\n",
        "    'Всего ячеек': df.shape[0],\n",
        "    'Пустых ячеек': df.isnull().sum()\n",
        "})\n",
        "missing_info['% Пропусков'] = (missing_info['Пустых ячеек'] / missing_info['Всего ячеек']) * 100\n",
        "print(missing_info)\n",
        "\n",
        "row_null_ratio = df.isnull().mean(axis=1)\n",
        "rows_with_many_nans = (row_null_ratio > 0.75).sum()\n",
        "print(f\"\\nКоличество строк с более чем 75% пропущенных значений: {rows_with_many_nans}\")\n",
        "\n",
        "plt.figure(figsize=(10, 6))\n",
        "df.isnull().sum().plot(kind='bar')\n",
        "plt.title('Количество пропущенных значений по столбцам')\n",
        "plt.ylabel('Число пропусков')\n",
        "plt.xlabel('Столбцы')\n",
        "plt.xticks(rotation=45, ha='right')\n",
        "plt.tight_layout()\n",
        "plt.show()"
      ],
      "metadata": {
        "id": "D0dHrjUYHl9f",
        "outputId": "1688a4bb-50fc-47f5-8e76-162101d69154",
        "colab": {
          "base_uri": "https://localhost:8080/",
          "height": 790
        }
      },
      "execution_count": 12,
      "outputs": [
        {
          "output_type": "stream",
          "name": "stdout",
          "text": [
            "                 Всего ячеек  Пустых ячеек  % Пропусков\n",
            "country                22000             0     0.000000\n",
            "country_code           22000             0     0.000000\n",
            "date_added             22000         21878    99.445455\n",
            "has_expired            22000             0     0.000000\n",
            "job_board              22000             0     0.000000\n",
            "job_description        22000             0     0.000000\n",
            "job_title              22000             0     0.000000\n",
            "job_type               22000          1628     7.400000\n",
            "location               22000             0     0.000000\n",
            "organization           22000          6867    31.213636\n",
            "page_url               22000             0     0.000000\n",
            "salary                 22000         18554    84.336364\n",
            "sector                 22000          5194    23.609091\n",
            "uniq_id                22000             0     0.000000\n",
            "\n",
            "Количество строк с более чем 75% пропущенных значений: 0\n"
          ]
        },
        {
          "output_type": "display_data",
          "data": {
            "text/plain": [
              "<Figure size 1000x600 with 1 Axes>"
            ],
            "image/png": "[encoded data removed]"
          },
          "metadata": {}
        }
      ]
    },
    {
      "cell_type": "markdown",
      "source": [
        "Проверьте, как изменится размер датасета, если принять решение удалить все строки, где есть пустые значения. Сделайте выводы."
      ],
      "metadata": {
        "id": "7_wex_yPS2t_"
      }
    },
    {
      "cell_type": "code",
      "source": [
        "print('Строк в датасете до удаления:',df.shape[0])\n",
        "\n",
        "df_cleaned = df.dropna()\n",
        "print('После: ' , df_cleaned.shape[0])\n",
        "print('Удаление этих строк приводит к потери 99% данных датасета и делает его абсолютно бесполезным')"
      ],
      "metadata": {
        "id": "H2anBRV8NezM",
        "outputId": "0b290f41-0edf-4101-f76a-40e1aa790102",
        "colab": {
          "base_uri": "https://localhost:8080/"
        }
      },
      "execution_count": 15,
      "outputs": [
        {
          "output_type": "stream",
          "name": "stdout",
          "text": [
            "Строк в датасете до удаления: 22000\n",
            "После:  5\n",
            "Удаление этих строк приводит к потери 99% данных датасета и делает его абсолютно бесполезным\n"
          ]
        }
      ]
    },
    {
      "cell_type": "markdown",
      "source": [
        "### Первичная оценка данных в столбцах"
      ],
      "metadata": {
        "id": "msyy7idiKbax"
      }
    },
    {
      "cell_type": "markdown",
      "source": [
        "Изучите данные в столбцах датасета, ответив на следующие вопросы:\n",
        "1. Есть ли столбцы, в которых встречается всего одно значение? Как их можно использовать в анализе?\n",
        "2. Есть ли такие значения, которые встречаются более чем в одном столбце?\n",
        "3. Есть ли столбцы, данные в которых не соответствуют названию столбца?"
      ],
      "metadata": {
        "id": "1Vx9OuX_TcVy"
      }
    },
    {
      "cell_type": "code",
      "source": [
        "from itertools import combinations\n",
        "\n",
        "single_value_cols = df.nunique()\n",
        "\n",
        "print(\"Столбцы с одним уникальным значением:\\n\")\n",
        "print(single_value_cols[single_value_cols == 1])\n",
        "print()\n",
        "print('Столбцы с одним значением не несут полезной информации для анализа и обычно удаляются. Их можно оставить, если они важны для фильтрации, объединения данных или контроля качества.')\n",
        "print()\n",
        "print('Значения, которые встречаются более чем в одном столбце: ')\n",
        "for col1, col2 in combinations(df.columns, 2):\n",
        "    set1 = set(df[col1].dropna().astype(str).unique())\n",
        "    set2 = set(df[col2].dropna().astype(str).unique())\n",
        "    common = set1 & set2\n",
        "    if common:\n",
        "        print(f\"{col1} ↔ {col2} → {list(common)[:5]}\")\n",
        "\n",
        "print()\n",
        "print('В этом датасете нет столбцов с нарушением соответствия данных')"
      ],
      "metadata": {
        "id": "AxBO7ljdKgO5",
        "outputId": "5ca410fb-7386-44f6-cc11-6b3f269fbacb",
        "colab": {
          "base_uri": "https://localhost:8080/"
        }
      },
      "execution_count": 25,
      "outputs": [
        {
          "output_type": "stream",
          "name": "stdout",
          "text": [
            "Столбцы с одним уникальным значением:\n",
            "\n",
            "country         1\n",
            "country_code    1\n",
            "has_expired     1\n",
            "job_board       1\n",
            "dtype: int64\n",
            "\n",
            "Столбцы с одним значением не несут полезной информации для анализа и обычно удаляются. Их можно оставить, если они важны для фильтрации, объединения данных или контроля качества.\n",
            "\n",
            "Значения, которые встречаются более чем в одном столбце: \n",
            "job_description ↔ job_title → ['Please apply only if you are qualified.']\n",
            "job_description ↔ location → [\"12N Horizontal Construction Engineers Job ID: 782971 Job Views: 95 Location: LAS VEGAS, Nevada, United States ZIP Code: 89165 Job Category: Engineer Posted: 11.04.2016 Job DescriptionAirfields. Roads. Dams. Buildings. Name the project, and the Army National Guard builds it. And to do it, they need to move tons of earth, debris, and building materials. That's where the Horizontal Construction Engineer comes in with bulldozers, cranes, graders, and other heavy equipment.As a Guard Horizontal Construction Engineer, you will use heavy machinery to level earth for runways and roadbeds; clear, excavate, dig, and backfill areas of construction sites; spread fill material; transport heavy construction equipment with a tractor-trailer; move heavy building materials with cranes; and assist in performance of combat engineer missions.Through training and practice in this specialty you will develop skills and experience in basic construction methods and engineering principles, particularly as they pertain to operating heavy construction equipment. Plus, you may earn specialized certifications that enable you to step right into a civilian construction career.Earn while you learnInstead of paying to learn these skills, get paid to train. In the Army National Guard, you will learn these valuable job skills while earning a regular paycheck and qualifying for tuition assistance.Job training for Horizontal Construction Engineers consists of nine weeks of Basic Training, where you'll learn basic Soldiering skills, and eight weeks of Advanced Individual Training. Part of this time is spent in the classroom and part in the field.Requires military enlistment. Applicants must meet minimum qualifications. Actual MOS assignment may depend on MOS availability. Benefits subject to change.Benefits/RequirementsBenefitsPaid trainingA monthly paycheckMontgomery GI BillRetirement benefits for part-time serviceLow-cost life insurance (up to $400,000 in coverage)401(k)-type savings planStudent Loan Repayment Program (up to $50,000, for existing loans)Healthcare Benefits AvailableRequirementsHigh School Diploma or GEDMust be between the ages of 17 and 35Must be able to pass a physical exam and meet legal and moral standardsMust meet citizenship requirements (see NATIONALGUARD.com for details)Most non-prior service candidates will earn between $196.26 and $254.91 per drill weekend.Programs and benefits are subject to change.This position may qualify for a bonus, ask your National Guard recruiter for the most up-to-date information.stLight.options({publisher:'dc1d43a6-e554-4b53-8d4f-9e82edc64815',embeds:true});\", \"Experis Finance is seeking local, highly qualified Accounting professionals for upcoming projects with our clients. Whether youre looking for something new today or in the future, we'd love to hear from you. Title: SEC Reporting ConsultantLocation: Boca RatonContract: 6 monthsPrimary Responsibilities: Current and complete familiarity with SEC reporting. Responsibilities include but not limited to: Knowledge of disclosure cycle calendar and document request list across all contributing parties Experience in MD&A and Business disclosures based on meetings with business leaders. Ensure consistency of message and amounts with Investor Relations documents (Earnings Release, Script, Slides) Knowledge in consolidated cash flow statement and related liquidity disclosures. Lead management reviews of consolidated balance sheet and cash flow information Experience in footnote disclosures compliant with GAAP and reflecting operations. Research and develop new footnote disclosures, as appropriate Knowledge in non-GAAP reconciliations for presentation on the Companys website Ensure compliance with XBRL reporting Coordinate Officer Certification process Complete disclosure checklist Coordinate issue resolution with auditors Ensure proper and adequate documentation and internal controls over external disclosures Responsible for standalone audits of captive insurance company, pension and related benefit plans, certain subsidiaries. Responsible for non-SEC Governmental reporting.Experis is an Equal Opportunity Employer (EOE/AA)\", 'Location: Midwest/REMOTE with travel\\xa0\\xa0\\xa0 \\xa0 \\xa0 \\xa0 \\xa0 \\xa0 \\xa0 \\xa0 \\xa0 \\xa0 \\xa0 \\xa0 \\xa0 \\xa0 \\xa0 \\xa0 \\xa0 \\xa0 \\xa0 \\xa0 \\xa0 \\xa0 \\xa0 \\xa0 \\xa0 \\xa0 \\xa0 \\xa0 \\xa0 \\xa0 \\xa0 \\xa0 \\xa0 \\xa0 \\xa0 \\xa0 \\xa0 \\xa0 \\xa0 \\xa0 \\xa0 \\xa0 \\xa0National Account Manager – Finally- - the one you’ve been looking for!True professionals perform with skill, hard work, and lead by example.\\xa0\\xa0 To them – successfully prospecting, developing, proposing and closing are the things that reward them with a real sense of accomplishment and true financial reward.Are you looking for an opportunity to control your destiny?\\xa0\\xa0 Consider the following:A Major Manufacturer (OEM), known for their office equipment, has an immediate need for a National Account Manager to develop and close opportunities, from beginning to end, in the Fortune 1000 space. \\xa0\\xa0This is a “hunting” position in a named account environment. \\xa0You will cover the states of Michigan, Ohio, Indiana, and Kentucky.\\xa0 It’s a rare opportunity to work out of your home office, to set your own appointments, and then travel there in your company provided car.\\xa0 Develop C-level relationships and understand what they require.\\xa0 Use your business acumen to synthesize their needs into actionable solutions and close them.\\xa0\\xa0 Use the field resources available to support your efforts and then move on to your next opportunity.If you have a successful record selling in the copier and printer solutions marketplace, but have been under-valued and under-paid, consider having a conversation with me, Steve Spencer.\\xa0 \\xa0Good jobs are hard to find.\\xa0 Great ones are even rarer.\\xa0 This job will pay you in the $125k range the first year, with a salary and guarantee that will support most of it.\\xa0 But in the second year, most people begin to earn much more.\\xa0 Many earn $200k plus.This is a serious opportunity with great benefits and is a wonderful long-term career opportunity.\\xa0 Most stay ten years or more, unlike where you might be now! \\xa0This requires self-motivation, persistence and a successful solid track record to-date.\\xa0 For immediate response, call Steve Spencer at (239) 963-4295 .', 'Position Number: 7067-628-04271 Open Date: 4/27/2016 Close Date: Open Until Filled Program: Edward J. Healey Center Department: Therapy Services Location: Riviera Beach, FL The Edward J. Healey Rehabilitation and Nursing Center provides long-term and short-term rehabilitation and skilled nursing care to eligible Palm Beach County residents 21 and older. The Healey Center, located in a new 120-bed facility in Riviera Beach, is proud of its success in returning residents to their highest optimal capabilities. For more information visit \\xa0 www.hcdpbc.org/HealeyCenter . \\xa0 Connect with us: LinkedIn - www.linkedin.com/company/health-care-district-of-palm-beach-county Twitter - www.twitter.com/healthcaredist General Statement of Job The purpose of the position is to plan, organize, and implement licensed Physical Therapy services under the supervision of the Director of Rehabilitation and as ordered by the referring physicians.\\xa0 This position supervises activities of licensed Physical Therapy Assistants and rehabilitation aides performing designated Physical Therapy tasks. Specific Duties and Responsibilities Essential Functions: Schedules or oversees scheduling of Physical Therapy patients. Reviews and revises Physical Therapy policies and procedures as often as appropriate. Reviews and develops Physical Therapy programs to ensure that the facility provides appropriate Physical Therapy services to residents. Evaluates patients and residents using standard Physical Therapy evaluation criteria and establishes appropriate treatment plans. Provides Physical Therapy treatment to residents and patients. Supervises Physical Therapy assistants and rehabilitation aides in the treatment of patients and other duties. Recommends equipment needs to the Director of Rehabilitation. Administers therapeutic treatment to residents according to physician’s and/or Occupational Therapist’s established management care plans. Creates and implements Occupational Therapy treatment plans. Assesses patient progress, including progress subsequent to treatment. Maintains documentation and files concerning activities conducted (e.g., charting, patient progress, treatment logs, and monthly statistics). Communicates with appropriate District personnel concerning patient progress. Provides instruction to nursing personnel in patient management and related persons involved in patient management/care, including patient families. Ensures safety of patients during administering of all rehabilitative and therapeutic procedures. Attends various seminars, workshops, in-service training programs, department meetings, and rehabilitation conferences to maintain current knowledge of trends and developments both in the field and in relation to patient rehabilitation plans. Emergency duty may be required of the incumbent that includes working in Red Cross shelters or to perform other emergency duties including, but not limited to, responses to threats or disasters, man-made or natural. Position Qualifications Education: \\xa0 Bachelor’s degree from an accredited program required. Experience: \\xa0 Three (3) to five (5) years practical experience in the field preferred; Supervisory and neurological experience preferred.\\xa0 New graduate acceptable. Certification: \\xa0 Basic Life Support certification required. Licensure: \\xa0 State license and registration as a Physical Therapist and the ability to acquire required continuing education to maintain licensure. (~M) *CB \\xa0 *CB The Health Care District is an Equal Employment Opportunity Employer and maintains a Drug Free Workplace. Veterans preferred. Qualified individuals with disabilities who require an accommodation to participate in the application process or candidates with other questions should contact Human Resources . #TrackingJobBody p{margin-top:0px !important; min-height:0px !important;}', \"Driver - Box Truck-24ft or 26ft-Owner Operator Cincinnati OH COMPANY: Priority Dispatch Priority Dispatch has upcoming openings for Owner Operators or small fleet owners with 24' or 26' straight trucks, dock high, with pallot jacks.\\xa0The routes pick up in Hebron Ky or Evendale OH in between 1am and 4am and deliver in the surrounding areas. This is a perfect opportunity to keep your truck on the road and add to your already existing income!\\xa0Please call 513-615-6039 if interested.\\xa0EOE/M/F/Disabled/Vet Disclaimer: 1099 Independent Contractors are not classified as employees. Qualified applicants will receive consideration without regard to age, race, color, religion, sex, sexual orientation, disability, or national origin.\\xa0Desire for referral of veterans\\xa0Respond online for more information.\\xa0 Respond online today.\\u200b Location: Cincinnati, OH Type: Independent Contract Ad # : 24142 Vehicle Type: 24 ft. Box Truck Click here to view full ad with details and Apply Online. All responses are done online.\\u200b CBDriver.\\u200bcom - CourierboardDriver.\\u200bcom - a free website with driver wanted ads for Drivers\"]\n",
            "job_title ↔ location → ['Business Analyst', 'RF Engineer', 'Tax Accountant', 'Project Manager', 'Senior Accountant']\n",
            "job_type ↔ location → ['Full Time Employee']\n",
            "job_type ↔ organization → ['Full Time Employee']\n",
            "location ↔ organization → ['Omaha, NE 68124', 'Foster City, CA 94404', 'Santa Clara, CA 95054', 'Jacksonville, FL 32256', 'Northbrook, IL']\n",
            "organization ↔ sector → ['Electrical/Electronics EngineeringIndustrial/Manufacturing EngineeringMechanical Engineering', 'Retail']\n",
            "\n",
            "В этом датасете нет столбцов с нарушением соответствия данных\n"
          ]
        }
      ]
    },
    {
      "cell_type": "markdown",
      "source": [
        "### Дублирование данных"
      ],
      "metadata": {
        "id": "AnlzCkfNL9Zp"
      }
    },
    {
      "cell_type": "markdown",
      "source": [
        "Для поиска дублирующихся строк выполните следующие действия:\n",
        "1. В таблице есть столбец `uniq_id`, значения которого, как сказано в описании данных, являются уникальными идентификаторами записей. Проверьте, действительно ли в этом столбце все значения различны.\n",
        "2. Проверьте, есть ли в таблице другие столбцы, значения которых в каждой строке различны.\n",
        "3. Если игнорировать столбцы, где все значения различны, найдутся ли такие строки, для которых значения по всем остальным столбцам будут совпадать?\n",
        "\n",
        "Оцените результаты поиска дубликатов."
      ],
      "metadata": {
        "id": "o5ee6oWjUPrt"
      }
    },
    {
      "cell_type": "code",
      "source": [
        "print('Значения различны.' if df['uniq_id'].is_unique else 'Значения не различны.')\n",
        "unique_cols = [col for col in df.columns if df[col].is_unique]\n",
        "print('Столбцы с различными значениями: ', unique_cols)\n",
        "df_non_unique = df.drop(columns=unique_cols)\n",
        "duplicates = df_non_unique[df_non_unique.duplicated(keep=False)]\n",
        "print('Кол-во строк дубликатов без учета уникальных столбцов: ', duplicates.shape[0])"
      ],
      "metadata": {
        "id": "FfkaGrilYAA7",
        "outputId": "f49464cf-bdb6-473b-c972-912e0a3d1f6b",
        "colab": {
          "base_uri": "https://localhost:8080/"
        }
      },
      "execution_count": 34,
      "outputs": [
        {
          "output_type": "stream",
          "name": "stdout",
          "text": [
            "Значения различны.\n",
            "Столбцы с различными значениями:  ['page_url', 'uniq_id']\n",
            "Кол-во строк дубликатов без учета уникальных столбцов:  2078\n"
          ]
        }
      ]
    },
    {
      "cell_type": "code",
      "source": [
        "print('В датасете обнаружены 2078 дублирующихся строк, отличающихся только\\n уникальным ID и ссылкой. Такие повторы могут искажать анализ,\\n поэтому их стоит удалить или сгруппировать.')"
      ],
      "metadata": {
        "id": "xdOZaPBXNO-4",
        "outputId": "3cb263ca-9859-49ad-d942-1b62bb4aa15c",
        "colab": {
          "base_uri": "https://localhost:8080/"
        }
      },
      "execution_count": 37,
      "outputs": [
        {
          "output_type": "stream",
          "name": "stdout",
          "text": [
            "В датасете обнаружены 2078 дублирующихся строк, отличающихся только\n",
            " уникальным ID и ссылкой. Такие повторы могут искажать анализ,\n",
            " поэтому их стоит удалить или сгруппировать.\n"
          ]
        }
      ]
    },
    {
      "cell_type": "markdown",
      "source": [
        "# Практические задания"
      ],
      "metadata": {
        "id": "KfnT9b7KkbGV"
      }
    },
    {
      "cell_type": "markdown",
      "source": [
        "В этом разделе необходимо обработать значения в трех столбцах датасета: `location`, `salary` и `job_type`. Цель обработки – стандартизировать данные в каждом из столбцов так, чтобы их можно было анализировать."
      ],
      "metadata": {
        "id": "mLi_dNBw7vYH"
      }
    },
    {
      "cell_type": "markdown",
      "source": [
        "### Задание 1\n",
        "\n",
        "В задании 1 необходимо провести обработку столбца `location`."
      ],
      "metadata": {
        "id": "bysSIV-E6Qo2"
      }
    },
    {
      "cell_type": "markdown",
      "source": [
        "#### Задание 1.1\n",
        "\n",
        "В столбце `location` представлена информация о местоположении организации, в которой открыта вакансия. Каждое значение столбца `location` содержит информацию о городе, коде штата и почтовом индексе.\n",
        "\n",
        "Однако не в каждой строке есть все три характеристики местоположения, а также могут встречаться разные комбинации из них, записанные в виде строки в произвольном порядке и с разными разделителями.\n",
        "\n",
        "Например, может быть указан только код штата, только название города или только индекс. Могут быть указаны любые две характеристики из трех.\n",
        "\n",
        "**Формулировка задания:**\n",
        "1. Определите, какие форматы встречаются.\n",
        "2. Напишите одно или несколько регулярных выражений для поиска выявленных форматов.\n",
        "3. Визуализируйте количество найденных форматов на столбчатой или круговой диаграмме. Также покажите на ней количество строк, в которых формат определить не удалось. Какие форматы встречаются чаще всего?\n",
        "\n",
        "Ознакомиться с теоретическим материалом по работе с регулярными выражениями можно [по ссылке](https://colab.research.google.com/drive/1eFHdmt9OROLEDJRNc2wNmz0gpE1O3sKU?usp=sharing)."
      ],
      "metadata": {
        "id": "XFGxe_V0-RJH"
      }
    },
    {
      "cell_type": "code",
      "source": [
        "patterns = {\n",
        "    'city_state_zip': r'^[A-Za-z .\\-]+,\\s*[A-Z]{2}\\s*\\d{5}$',\n",
        "    'city_state': r'^[A-Za-z .\\-]+,\\s*[A-Z]{2}$',\n",
        "    'state_zip': r'^[A-Z]{2}\\s*\\d{5}$',\n",
        "    'state_only': r'^[A-Z]{2}$',\n",
        "    'zip_only': r'^\\d{5}$',\n",
        "    'city_only': r'^[A-Za-z .\\-]+$',\n",
        "}\n",
        "\n",
        "def detect_location_format(location):\n",
        "    if pd.isna(location):\n",
        "        return 'unknown'\n",
        "    for name, pattern in patterns.items():\n",
        "        if re.match(pattern, location.strip()):\n",
        "            return name\n",
        "    return 'unknown'\n",
        "\n",
        "df['location_format'] = df['location'].astype(str).map(detect_location_format)\n",
        "\n",
        "format_counts = df['location_format'].value_counts()\n",
        "\n",
        "format_counts.plot(kind='bar', figsize=(10, 6))\n",
        "plt.title('Форматы значений в столбце location')\n",
        "plt.xlabel('Формат')\n",
        "plt.ylabel('Количество')\n",
        "plt.xticks(rotation=45)\n",
        "plt.tight_layout()\n",
        "plt.show()"
      ],
      "metadata": {
        "id": "cn1chn2Y7MFK",
        "outputId": "002a6bad-b88e-4557-f8de-a3ec56629b49",
        "colab": {
          "base_uri": "https://localhost:8080/",
          "height": 495
        }
      },
      "execution_count": 43,
      "outputs": [
        {
          "output_type": "display_data",
          "data": {
            "text/plain": [
              "<Figure size 1000x600 with 1 Axes>"
            ],
            "image/png": "[encoded data removed]"
          },
          "metadata": {}
        }
      ]
    },
    {
      "cell_type": "markdown",
      "source": [
        "#### Задание 1.2\n",
        "\n",
        "В большей части строк удалось извлечь данные из ячейки столбца `location`, но остались и такие, где это не получилось. Вынесите в отдельный датасет записи, в которых не удалось определить формат записи информации о местоположении.\n",
        "\n",
        "Над оставшимися строками проведите следующие преобразования:\n",
        "1. Данные о местоположении разделите на 3 столбца: город, код штата, почтовый индекс.\n",
        "2. Так как значения в столбце `почтовый индекс` являются пятизначными числами, преобразуйте их в целочисленный формат."
      ],
      "metadata": {
        "id": "F3U7JkFM_OvP"
      }
    },
    {
      "cell_type": "code",
      "source": [
        "df_unknown_location = df[df['location_format'] == 'unknown'].copy()\n",
        "df_valid_location = df[df['location_format'] != 'unknown'].copy()\n",
        "\n",
        "def extract_location_parts(location):\n",
        "    city = state = zip_code = None\n",
        "    location = location.strip()\n",
        "\n",
        "    zip_match = re.search(r'\\b\\d{5}\\b', location)\n",
        "    if zip_match:\n",
        "        zip_code = int(zip_match.group())\n",
        "\n",
        "    state_match = re.search(r'\\b[A-Z]{2}\\b', location)\n",
        "    if state_match:\n",
        "        state = state_match.group()\n",
        "\n",
        "    if ',' in location:\n",
        "        city_part = location.split(',')[0]\n",
        "        city = city_part.strip()\n",
        "    else:\n",
        "        parts = location.split()\n",
        "        for part in parts:\n",
        "            if not re.fullmatch(r'[A-Z]{2}|\\d{5}', part):\n",
        "                city = part.strip()\n",
        "                break\n",
        "\n",
        "    return pd.Series([city, state, zip_code])\n",
        "\n",
        "df_valid_location[['city', 'state', 'zip']] = df_valid_location['location'].apply(extract_location_parts)\n",
        "\n",
        "print(df_valid_location[['location', 'city', 'state', 'zip']].head())"
      ],
      "metadata": {
        "id": "Jhfk2VbV86Wi",
        "outputId": "bad3d1db-6fff-4f69-dbce-8ee2b853ab8e",
        "colab": {
          "base_uri": "https://localhost:8080/"
        }
      },
      "execution_count": 45,
      "outputs": [
        {
          "output_type": "stream",
          "name": "stdout",
          "text": [
            "              location             city state      zip\n",
            "0    Madison, WI 53702          Madison    WI  53702.0\n",
            "1    Madison, WI 53708          Madison    WI  53708.0\n",
            "3            Dixon, CA            Dixon    CA      NaN\n",
            "4         Camphill, PA         Camphill    PA      NaN\n",
            "5  Charlottesville, VA  Charlottesville    VA      NaN\n"
          ]
        }
      ]
    },
    {
      "cell_type": "markdown",
      "source": [
        "Рассмотрите отложенную часть выборки (ту, где не удалось данные из столбца `location` разделить на три поля) и сделайте выводы о возможности извлечь из данных город, код штата и почтовый индекс. Извлеките все, что возможно. Что невозможно – оставьте пустым."
      ],
      "metadata": {
        "id": "aXtr78WJ_cyH"
      }
    },
    {
      "cell_type": "code",
      "source": [
        "df_unknown_location = df[df['location_format'] == 'unknown'].copy()\n",
        "\n",
        "def extract_from_unknown(location):\n",
        "    city = state = zip_code = None\n",
        "    location = location.strip()\n",
        "\n",
        "    zip_match = re.search(r'\\b\\d{5}\\b', location)\n",
        "    if zip_match:\n",
        "        zip_code = int(zip_match.group())\n",
        "\n",
        "    state_match = re.search(r'\\b[A-Z]{2}\\b', location)\n",
        "    if state_match:\n",
        "        state = state_match.group()\n",
        "\n",
        "    parts = re.split(r'[,\\s]+', location)\n",
        "    possible_city = [p for p in parts if not re.fullmatch(r'\\d{5}|[A-Z]{2}', p)]\n",
        "    if possible_city:\n",
        "        city = \" \".join(possible_city).strip()\n",
        "\n",
        "    return pd.Series([city, state, zip_code])\n",
        "\n",
        "df_unknown_location[['city', 'state', 'zip']] = df_unknown_location['location'].apply(extract_from_unknown)\n",
        "\n",
        "print(df_unknown_location[['location', 'city', 'state', 'zip']].head())"
      ],
      "metadata": {
        "id": "q4S6RjAR_rk-",
        "outputId": "026cb202-b206-473e-c520-91a0748b0c01",
        "colab": {
          "base_uri": "https://localhost:8080/"
        }
      },
      "execution_count": 47,
      "outputs": [
        {
          "output_type": "stream",
          "name": "stdout",
          "text": [
            "                                             location  \\\n",
            "2   DePuy Synthes Companies is a member of Johnson...   \n",
            "16                                    Wadesboro 28170   \n",
            "22                                     La Porte 46350   \n",
            "29                Sr. Process Engineer, Manufacturing   \n",
            "36                RF System Technician, Field Service   \n",
            "\n",
            "                                                 city state      zip  \n",
            "2   DePuy Synthes Companies is a member of Johnson...    MA      NaN  \n",
            "16                                          Wadesboro  None  28170.0  \n",
            "22                                           La Porte  None  46350.0  \n",
            "29                 Sr. Process Engineer Manufacturing  None      NaN  \n",
            "36                    System Technician Field Service    RF      NaN  \n"
          ]
        }
      ]
    },
    {
      "cell_type": "markdown",
      "source": [
        "### Задание 2\n",
        "\n",
        "В задании 2 необходимо провести обработку столбца `salary`."
      ],
      "metadata": {
        "id": "jnaCe7umCrCM"
      }
    },
    {
      "cell_type": "markdown",
      "source": [
        "#### Задание 2.1\n",
        "\n",
        "В столбце `salary`, как и в `location`, данные не стандатизированы. В нем в основном можно встретить записи в следующих форматах:\n",
        "\n",
        "* 10.00 - 20.00 &dollar; &sol;hour\n",
        "* 10,000.00 - 20,000.00 &dollar; &sol;year\n",
        "* &dollar;10.00 &sol;hour\n",
        "* &dollar;10,000.00+ &sol;year\n",
        "* Up to &dollar;20,000.00\n",
        "\n",
        "Основные проблемы, которые стоит учесть при обработке форматов:\n",
        "- В каждом из форматов может быть или не быть знака доллара.\n",
        "- Может отсутствовать информация о периоде, за который указывается зарплата (`/hour` или `/year` в примерах).\n",
        "- Зарплата может быть указана за месяц (`/month`) и за неделю (`/week`).\n",
        "- В начале, конце и середине некоторых строк есть лишние пробелы, которые не стоит учитывать.\n",
        "\n",
        "**Задание:**\n",
        "1. Определите весь перечень встречающихся форматов и напишите одно или несколько регулярных выражений для их поиска.\n",
        "2. Покажите на столбчатой диаграмме количество записей, содержащих каждый из форматов. Сделайте выводы."
      ],
      "metadata": {
        "id": "pODtqlog_v7l"
      }
    },
    {
      "cell_type": "code",
      "source": [
        "# PUT YOUR CODE HERE"
      ],
      "metadata": {
        "id": "62JbulyKA7kS"
      },
      "execution_count": null,
      "outputs": []
    },
    {
      "cell_type": "markdown",
      "source": [
        "#### Задание 2.2\n",
        "\n",
        "1. Разделите столбец `salary` зарплаты три: `минимальная граница зарплаты`, `максимальная граница зарплаты`, `период`. Если значение суммы указано только одно, считайте, что это минимальная зарплата. Значение суммы в обоих столбцах преобразуйте в формат `float`.\n",
        "2. Покажите на столбчатой диаграмме с группировкой среднюю и медианную минимальную зарплату в каждом периоде. Сделайте выводы."
      ],
      "metadata": {
        "id": "HcDjkOO2MZB2"
      }
    },
    {
      "cell_type": "code",
      "source": [
        "# PUT YOUR CODE HERE"
      ],
      "metadata": {
        "id": "Sv7hqH6vBKXt"
      },
      "execution_count": null,
      "outputs": []
    },
    {
      "cell_type": "markdown",
      "source": [
        "#### Задание 2.3\n",
        "\n",
        "Как было отмечено в задании 2.1, период, за который указывается зарплата, может отсутствовать. Восполните этот пробел в данных следующим образом:\n",
        "\n",
        "1. Определите диапазон изменения (разброс) значений денежной суммы за каждый из встречающихся в данных периодов. Постройте гистограмму для каждого периода.\n",
        "2. Определите, к среднему значению за какой период ближе всего сумма, у которой период не указан. Укажите для найденный период. В спорных случаях, где сумма одинаково близка к нескольким диапазонам, не выбирайте ничего."
      ],
      "metadata": {
        "id": "3qwRlgzGC-To"
      }
    },
    {
      "cell_type": "code",
      "source": [
        "# PUT YOUR CODE HERE"
      ],
      "metadata": {
        "id": "FnhxSKfkAgbS"
      },
      "execution_count": null,
      "outputs": []
    },
    {
      "cell_type": "markdown",
      "source": [
        "### Задание 3\n",
        "\n",
        "В задании 3 необходимо провести обработку столбца `job_type`. Выясните, какие форматы значений есть в столбце `job_type`. Сделайте выводы. При необходимости – стройте графики."
      ],
      "metadata": {
        "id": "cQZa1dUvXPZc"
      }
    },
    {
      "cell_type": "code",
      "source": [
        "# PUT YOUR CODE HERE"
      ],
      "metadata": {
        "id": "PbFXp8J6BN--"
      },
      "execution_count": null,
      "outputs": []
    },
    {
      "cell_type": "markdown",
      "source": [
        "Вы заметили, что многие значения фактически одинаковые, но немного по-разному отформатированы? Приведем их к единому формату."
      ],
      "metadata": {
        "id": "CpUXRxhoXsdy"
      }
    },
    {
      "cell_type": "code",
      "source": [
        "# PUT YOUR CODE HERE"
      ],
      "metadata": {
        "id": "ejRYjjC7WIES"
      },
      "execution_count": null,
      "outputs": []
    },
    {
      "cell_type": "markdown",
      "source": [
        "Столбец `job_type` состоит из двух частей: \"полнота\" занятости (`Full Time`, `Part Time`, `Per Diem`) и \"тип\" занятости (`Employee`, `Intern`). Кроме того, встречаются и неполные записи.\n",
        "\n",
        "Задание:\n",
        "1. Написать одно или несколько регулярных выражений для разделения столбца `job_type` на два: `полнота занятости`, `тип занятости`.\n",
        "2. Если данные о полноте отсутствуют, внесите значение `Full Time`.\n",
        "Если отсутствуют данные о типе – внесите `Employee`.\n",
        "3. Постройте столбчатую диаграмму со стековой группировкой для полноты и типа занятости. Сделайте выводы."
      ],
      "metadata": {
        "id": "3dTDSMR8dTI8"
      }
    },
    {
      "cell_type": "code",
      "source": [
        "# PUT YOUR CODE HERE"
      ],
      "metadata": {
        "id": "gW7GoMgkbtLx"
      },
      "execution_count": null,
      "outputs": []
    },
    {
      "cell_type": "markdown",
      "source": [
        "# Порядок защиты работы"
      ],
      "metadata": {
        "id": "kNKi8fn1X0Qa"
      }
    },
    {
      "cell_type": "markdown",
      "source": [
        "**Для защиты работы необходимо:**\n",
        "1. Предоставить результаты выполнения всех заданий в виде ссылки на Google Colab.\n",
        "2. Выполнить дополнительное задание в процессе сдачи работы. Дополнительное задание представляет собой решение задачи на обработку данных лабораторной работы, меньшее по объему, но сопоставимое по сложности тем заданиям, которые требовалось выполнить в рамках работы.\n",
        "\n",
        "**Примеры дополнительных заданий:**\n",
        "1. В столбце `sector` часто представлены данные из столбца `organization` и наоборот. Устраните эту проблему.\n",
        "2. В столбце `job_title` часто можно частично или полностью встретить указание местоположения организации. Сравните, совпадают ли в таких случаях данные с тем, что указано в столбцах `город`, `код штата`, `почтовый индекс`. Если в этих трех столбцах данные отсутствуют, заполните их данными из столбца `job_title`.\n",
        "3. Практически во всех столбцах датасета вместо соответствующих названию данных иногда встречается текст из `job_description`. Найдите такие столбцы и записи с описанием вакансии в них. Покажите на столбчатой диаграмме, в каких столбцах и в каком количестве находится информация из столбца `job_description`."
      ],
      "metadata": {
        "id": "vNArFxJcX8uS"
      }
    },
    {
      "cell_type": "markdown",
      "source": [
        "# Дополнительные материалы"
      ],
      "metadata": {
        "id": "o5oPWAt-Z_s_"
      }
    },
    {
      "cell_type": "markdown",
      "source": [
        "1. DAMA-DMBOK: Свод знаний по управлению данными: Второе издание / DAMA International; [пер. с англ.]. – Москва: ООО \"Олимп-Бизнес\", 2021. – 828 с.\n",
        "2. Макгрегор, С. Обработка данных на Python: Data Wrangling и Data Quality: [Текст] / С. Макгрегор. – Москва: БХВ, 2024. – 432 с."
      ],
      "metadata": {
        "id": "-MwwS_lTaSGM"
      }
    }
  ]
}